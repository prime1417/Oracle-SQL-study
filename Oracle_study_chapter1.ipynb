{
  "nbformat": 4,
  "nbformat_minor": 0,
  "metadata": {
    "colab": {
      "provenance": [],
      "toc_visible": true,
      "authorship_tag": "ABX9TyMqlx4ugJu8Ic9JZQ6W4pT6",
      "include_colab_link": true
    },
    "kernelspec": {
      "name": "python3",
      "display_name": "Python 3"
    },
    "language_info": {
      "name": "python"
    }
  },
  "cells": [
    {
      "cell_type": "markdown",
      "metadata": {
        "id": "view-in-github",
        "colab_type": "text"
      },
      "source": [
        "<a href=\"https://colab.research.google.com/github/prime1417/Oracle-SQL-study/blob/main/Oracle_study_chapter1.ipynb\" target=\"_parent\"><img src=\"https://colab.research.google.com/assets/colab-badge.svg\" alt=\"Open In Colab\"/></a>"
      ]
    },
    {
      "cell_type": "markdown",
      "source": [
        "# 학습용 Oracle DB 설치"
      ],
      "metadata": {
        "id": "z1Xajvadp6fw"
      }
    },
    {
      "cell_type": "code",
      "source": [
        "#1. 오라클 홈페이지(https://www.oracle.com/kr) 접속, 아이디 생성\n",
        "#2. 비상업용은 개인이 설치해 사용 가능- Oracle 21c Express Edition 설치 / 다른 버전도 가능\n",
        "#3. PC 사양에 맞는 버전 설치\n",
        " ##3-1. oracle express edition download 검색해서 다운로드\n",
        " ##3-2. 홈페이지에서 Oracle Database Express Edition (XE) Downloads 페이지 링크 찾아 다운로드\n",
        "#4. 압축 파일 - 압축 풀기\n",
        "#5. setup.exe(설치) 파일 실행\n",
        "#6. 라이선스 계약 '동의함' 체크 후 '다음' 버튼 클릭\n",
        "#7. 설치 경로 선택(변경) 후 '다음' 버튼 클릭\n",
        "#8. SYS, SYSTEM, PDBADMIN과 같은 데이터베이스 관리자 권한 계정용 비밀번호 입력 후 '다음' 클릭\n",
        " ##8-1. 학습목적을 위해 'oracle'로 입력 - 상업용에서는 관리 철저(관리자만 사용하는)\n",
        "#9. '설치' 버튼 클릭"
      ],
      "metadata": {
        "id": "r1I1WNURq846"
      },
      "execution_count": null,
      "outputs": []
    },
    {
      "cell_type": "markdown",
      "source": [
        "# cmd 에서 Oracle DB 실행\n",
        "\n",
        "- 'sqlplus' : 오라클 데이터베이스 접속용 프로그램"
      ],
      "metadata": {
        "id": "WqwjmBLTtDjn"
      }
    },
    {
      "cell_type": "code",
      "source": [
        "# 학습용 계정 'SCOTT' 생성을 위한 관리자 계정 접속\n",
        "\n",
        "#1. 명령프롬프트(cmd) 실행, win key + r (실행창)에 'cmd' 입력\n",
        "#2. cmd 창에 sqlplus sys/oracle as sysdba 입력 후 enter\n",
        "#3. sys : 계정이름\n",
        "#4. oracle : 설치 시 입력한 비밀번호\n",
        "#5. as sysdba(dba :DataBase Administrator) : 시스템 관리자로 접속하겠다는 의미\n",
        "\n",
        "# #2 실행시\n",
        "# '다음에 접속 됨 : ~~'\n",
        "#  SQL>\n",
        "# 위와같이 cmd 창에 출력 : 접속 완료된 상태"
      ],
      "metadata": {
        "id": "PyJjTPsatJxy"
      },
      "execution_count": null,
      "outputs": []
    },
    {
      "cell_type": "markdown",
      "source": [
        "# DataBase 계정 생성하기\n",
        "\n",
        "- ALTER SESSION : 현재 접속된 SQL 세션의 환경을 변경하겠다는 의미의 명령어\n",
        "  - SET : 특정 매개변수의 값을 설정하겠다는 의미\n",
        "    - \"_oracle_script\"(매개변수) =(할당) true(값);\n",
        "\n",
        "\n",
        "이 명령어는 주로 Oracle 12c 이후 버전의 CDB(Container Database) 환경에서 C## 접두사 없이 PDB(Pluggable Database)에 사용자를 생성할 수 있도록 허용하는 역할을 합니다.\n",
        "\n",
        "원래 Oracle 12c부터는 멀티테넌트 아키텍처(Multitenant Architecture)가 도입되면서, 컨테이너 데이터베이스(CDB) 내의 플러그 가능 데이터베이스(PDB)에 공통 사용자(Common User)를 생성할 때 C## 접두사를 의무적으로 사용해야 했습니다. 예를 들어, CREATE USER C##myuser IDENTIFIED BY password; 와 같이 사용해야 합니다.\n",
        "\n",
        "하지만 이 명령어를 실행하면 _oracle_script 매개변수가 true로 설정되어 이러한 규칙을 무시하고, CREATE USER myuser IDENTIFIED BY password; 와 같이 일반적인 방식으로 사용자를 생성할 수 있게 됩니다."
      ],
      "metadata": {
        "id": "N8lec3d_utPU"
      }
    },
    {
      "cell_type": "code",
      "source": [
        "#1. ATER SESSION SET \"_oracel_script\"=true; 입력 후 enter\n",
        "##  Oracle 12c 이후 버전의 CDB(Container Database) 환경에서 C## 접두사 없이\n",
        "## PDB(Pluggable Database)에 사용자를 생성할 수 있도록 허용하는 역할\n",
        "\n",
        "#2. create user scott(계정 이름) 입력 후 enter\n",
        "\n",
        "#3. identified by tiger(비밀 번호) 입력 후 enter\n",
        "\n",
        "#4. default tablespace users quota unlimited on users; enter\n",
        "## 사용자가 생성되었습니다. 출력\n",
        "## users(사용자 계정들)에게 기본적으로 tablespace 권한을 부여함\n",
        "\n",
        "#5. grant create session, create table to scott;\n",
        "## 권한이 부여되었습니다. 출력\n",
        "## scott 계정에 접속 권한과 테이블 생성 권한을 부여"
      ],
      "metadata": {
        "id": "s4RDPdVYuW_w"
      },
      "execution_count": null,
      "outputs": []
    },
    {
      "cell_type": "markdown",
      "source": [
        "- GRANT 명령어를 사용하여 특정 사용자에게 부여합니다. 이때 ON 절을 사용하여 어떤 테이블스페이스에 대한 권한인지 명시하며, TO 절을 사용하여 권한을 받을 사용자를 지정\n",
        "  - ex) GRANT UNLIMITED TABLESPACE ON users TO myuser;\n",
        "\n",
        "- tablespace 권한 종류\n",
        "  - CREATE TABLE: 특정 테이블스페이스에 테이블을 생성할 수 있는 권한\n",
        "\n",
        "  - CREATE INDEX: 특정 테이블스페이스에 인덱스를 생성할 수 있는 권한\n",
        "\n",
        "  - ALTER TABLE: 특정 테이블의 저장 영역을 다른 테이블스페이스로 변경할 수 있는 권한\n",
        "\n",
        "  - UNLIMITED TABLESPACE: 모든 테이블스페이스에 대해 무제한으로 공간을 사용할 수 있는 시스템 권한.\n",
        "    - 사용자는 개별 테이블스페이스의 할당량(Quota) 제한을 무시하고 데이터를 생성 가능"
      ],
      "metadata": {
        "id": "KQxjq8sLxK7p"
      }
    },
    {
      "cell_type": "markdown",
      "source": [
        "# scott 계정 삭제와 데이터 초기화"
      ],
      "metadata": {
        "id": "p1b4IcCN4FgJ"
      }
    },
    {
      "cell_type": "code",
      "source": [
        "# sqlplus sys/oracle as sysdba   / 관리자 계정 접속\n",
        "\n",
        "# ALTER SESSION SET \"_oracle_script\"=true;  / 세션 설정\n",
        "# - drop user scott cascade; / 계정 초기화"
      ],
      "metadata": {
        "id": "zdAGqavu4Ms6"
      },
      "execution_count": null,
      "outputs": []
    },
    {
      "cell_type": "markdown",
      "source": [
        "# scott 계정 접속하기\n",
        "  - conn : 다른 계정으로 오라클 재접속 시도 명령어\n",
        "    - ex) conn 계정명/비밀번호\n",
        "  - show : 현재 접속 계정명 확인\n",
        "    - ex) show user\n"
      ],
      "metadata": {
        "id": "jnKz-XcQxcTY"
      }
    },
    {
      "cell_type": "code",
      "source": [
        "#1. conn scott/tiger\n",
        "## 연결되었습니다. 출력\n",
        "\n",
        "#2. show user\n",
        "## USER은 \"SCOTT\"입니다 출력"
      ],
      "metadata": {
        "id": "5FoRW1Gly9UH"
      },
      "execution_count": null,
      "outputs": []
    },
    {
      "cell_type": "markdown",
      "source": [
        "# 실습 데이터 생성"
      ],
      "metadata": {
        "id": "qd_wZsl71PVQ"
      }
    },
    {
      "cell_type": "code",
      "source": [
        "# 실습 데이터 생성을 위한 옵션 실행\n",
        "#1. SQL> ALTER SESSION SET \"_oracle_script\"=true;\n",
        "# 세션이 변경되었습니다.\n",
        "\n",
        "#2. SQL> ALTER SESSION SET nls_date_language='american';\n",
        "# 세션이 변경되었습니다.\n",
        "\n",
        "#3. SQL> ALTER SESSION SET nls_date_format='dd-MM-rr';\n",
        "# 세션이 변경되었습니다.\n",
        "\n",
        "#1~3 생성할 scott 실습 데이터의 날짜 형식을 맞추고자 옵션값을 성정한 것"
      ],
      "metadata": {
        "id": "_XEgL2ua1Zhm"
      },
      "execution_count": null,
      "outputs": []
    },
    {
      "cell_type": "code",
      "source": [
        "# 다운로드한 실습데이터 파일 'doitoracle_scott.sql' 파일 실행하기\n",
        "#1. 명령프롬프트(cmd창)에 @ 기호 입력 후 파일 드래그(경로/파일이름 자동입력) 후 enter\n",
        "# @C:\\Users\\user\\Desktop\\doitoracle_scott.sql"
      ],
      "metadata": {
        "id": "vOzqXCZ612xd"
      },
      "execution_count": null,
      "outputs": []
    },
    {
      "cell_type": "markdown",
      "source": [
        "# 실습 데이터 확인\n",
        "  - desc : describe 줄임말\n",
        "    - 특정 테이블이 어떤 열로 구성되는지 확인\n",
        "    - 열(속성, 필드)의 이름과 널(null) 여부, 데이터의 유형(자료형) 출력"
      ],
      "metadata": {
        "id": "crouxzmZ2WXo"
      }
    },
    {
      "cell_type": "code",
      "source": [
        "#1. desc emp;\n",
        "# emp 테이블 열 구성 확인\n",
        "\n",
        "#2. desc dept;\n",
        "# dept 테이블 열 구성 확인\n",
        "\n",
        "#3. desc salgrade;\n",
        "# salgrade 테이블 열 구성 확인"
      ],
      "metadata": {
        "id": "omEe0jIK2XyY"
      },
      "execution_count": null,
      "outputs": []
    },
    {
      "cell_type": "markdown",
      "source": [
        "# SQL Developer 설치\n",
        "- 오라클 데이터베이스 사용 도구\n",
        "- 텍스트 기반(명령프롬프트 기반 응용프로그램)인 SQL Plus의 편의성과 가독성 문제 해결\n",
        "- 대용량 데이터 조작 및 복잡한 명령어 실행에 유리\n",
        "- 무료료\n",
        "\n",
        "- 종류\n",
        "  - Toad, orange, Golden, SQLGate 등 유료 제품\n",
        "  - 한정 기간 무료 사용 버전 제공"
      ],
      "metadata": {
        "id": "KJIDEh-V4xi1"
      }
    },
    {
      "cell_type": "code",
      "source": [
        "#1. sql developer download 검색, 공식 다운로드 페이지 접속\n",
        "#2. window 환경 ==> Windows 64-bit with JDK XX included 버전 다운로드\n",
        "#3. 압축 파일 압축 해제\n",
        "#4. sqldeveloper.exe 실행(설치파일)\n",
        "#5. 환경설정 임포트 확인 => '아니오' 클릭\n",
        "# 설치완료"
      ],
      "metadata": {
        "id": "XXpRJYGS42kw"
      },
      "execution_count": null,
      "outputs": []
    },
    {
      "cell_type": "markdown",
      "source": [
        "# 실행 및 접속"
      ],
      "metadata": {
        "id": "d08uXnZE7Qtd"
      }
    },
    {
      "cell_type": "code",
      "source": [
        "#1. Oracle SQL Developer 실행\n",
        "\n",
        "#2. 새로 만들기/새로운 데이터 베이스 접속 ==> 메인 창 좌측 '접속' + 기호 '드롭다운' 버튼 클릭\n",
        "\n",
        "#3. 정보 입력\n",
        "# [Name] :  데이터 베이스 파일 이름 입력란 ==> \"DoitOracleSQL\" 입력 시 DoitOracleSQL.sql 로 저장됨\n",
        "# 사용자 정보 탭\n",
        "# [사용자 이름] : 접속 계정 입력\n",
        "# [비밀번호] : 계정 비밀번호\n",
        "\n",
        "#4. '테스트' 버튼 클릭  => 좌측 하단 [상태] 란에 성공 여부 출력\n",
        "#5. '성공' 출력 시 '접속' 버튼 클릭"
      ],
      "metadata": {
        "id": "vf-dF6rf7Q-Y"
      },
      "execution_count": null,
      "outputs": []
    },
    {
      "cell_type": "markdown",
      "source": [
        "# 익스포트 기능\n",
        "- 사용자의 [질의 결과] 탭 데이터의 마우스 우측 버튼 클릭으로 실행\n",
        "- 사용자가 원하는 형식으로[질의 결과] 데이터 저장(내보내기) 가능\n"
      ],
      "metadata": {
        "id": "Z0mcuuZHCWS5"
      }
    },
    {
      "cell_type": "code",
      "source": [],
      "metadata": {
        "id": "aPN20kXjCXct"
      },
      "execution_count": null,
      "outputs": []
    }
  ]
}